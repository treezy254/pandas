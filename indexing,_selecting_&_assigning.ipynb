{
  "cells": [
    {
      "cell_type": "markdown",
      "metadata": {
        "id": "view-in-github",
        "colab_type": "text"
      },
      "source": [
        "<a href=\"https://colab.research.google.com/github/treezy254/pandas/blob/master/indexing%2C_selecting_%26_assigning.ipynb\" target=\"_parent\"><img src=\"https://colab.research.google.com/assets/colab-badge.svg\" alt=\"Open In Colab\"/></a>"
      ]
    },
    {
      "cell_type": "markdown",
      "metadata": {
        "id": "d68JjPWx629A"
      },
      "source": [
        "## Indexing, Selecting and Assigning"
      ]
    },
    {
      "cell_type": "code",
      "execution_count": 2,
      "metadata": {
        "id": "Scwwpf_A6azb"
      },
      "outputs": [],
      "source": [
        "import pandas as pd\n",
        "\n",
        "reviews = pd.read_csv('winemag-data-130k-v2.csv', index_col=[0])"
      ]
    },
    {
      "cell_type": "code",
      "execution_count": 3,
      "metadata": {
        "colab": {
          "base_uri": "https://localhost:8080/"
        },
        "id": "QjxkM_3o6vA_",
        "outputId": "d53867e2-fe39-4a84-d1ca-cdbc14954fa1"
      },
      "outputs": [
        {
          "output_type": "execute_result",
          "data": {
            "text/plain": [
              "<bound method NDFrame.head of            country                                        description  \\\n",
              "0            Italy  Aromas include tropical fruit, broom, brimston...   \n",
              "1         Portugal  This is ripe and fruity, a wine that is smooth...   \n",
              "2               US  Tart and snappy, the flavors of lime flesh and...   \n",
              "3               US  Pineapple rind, lemon pith and orange blossom ...   \n",
              "4               US  Much like the regular bottling from 2012, this...   \n",
              "...            ...                                                ...   \n",
              "10331  New Zealand  The Awatere is a Marlborough subregion whose w...   \n",
              "10332        Spain  A barrel-aged surprise. The nose is round and ...   \n",
              "10333        Italy  Aromas of smoky cigar, toasted note and black ...   \n",
              "10334     Portugal  Fine grain tannins, with an aroma of light smo...   \n",
              "10335        Italy  Sassabruna is a Sangiovese-based wine with an ...   \n",
              "\n",
              "                              designation  points  price           province  \\\n",
              "0                            Vulkà Bianco      87    NaN  Sicily & Sardinia   \n",
              "1                                Avidagos      87   15.0              Douro   \n",
              "2                                     NaN      87   14.0             Oregon   \n",
              "3                    Reserve Late Harvest      87   13.0           Michigan   \n",
              "4      Vintner's Reserve Wild Child Block      87   65.0             Oregon   \n",
              "...                                   ...     ...    ...                ...   \n",
              "10331                                 NaN      90   22.0     Awatere Valley   \n",
              "10332          Domillor Harvest Selection      90   19.0            Galicia   \n",
              "10333                                 NaN      90   60.0            Tuscany   \n",
              "10334             Quinta da Pisca Vintage      90   90.0               Port   \n",
              "10335                          Sassabruna      90   25.0            Tuscany   \n",
              "\n",
              "                            region_1           region_2         taster_name  \\\n",
              "0                               Etna                NaN       Kerin O’Keefe   \n",
              "1                                NaN                NaN          Roger Voss   \n",
              "2                  Willamette Valley  Willamette Valley        Paul Gregutt   \n",
              "3                Lake Michigan Shore                NaN  Alexander Peartree   \n",
              "4                  Willamette Valley  Willamette Valley        Paul Gregutt   \n",
              "...                              ...                ...                 ...   \n",
              "10331                            NaN                NaN      Joe Czerwinski   \n",
              "10332                        Ribeiro                NaN   Michael Schachner   \n",
              "10333         Brunello di Montalcino                NaN                 NaN   \n",
              "10334                            NaN                NaN          Roger Voss   \n",
              "10335  Monteregio di Massa Marittima                NaN                 NaN   \n",
              "\n",
              "      taster_twitter_handle  \\\n",
              "0              @kerinokeefe   \n",
              "1                @vossroger   \n",
              "2               @paulgwine    \n",
              "3                       NaN   \n",
              "4               @paulgwine    \n",
              "...                     ...   \n",
              "10331                @JoeCz   \n",
              "10332           @wineschach   \n",
              "10333                   NaN   \n",
              "10334            @vossroger   \n",
              "10335                   NaN   \n",
              "\n",
              "                                                   title            variety  \\\n",
              "0                      Nicosia 2013 Vulkà Bianco  (Etna)        White Blend   \n",
              "1          Quinta dos Avidagos 2011 Avidagos Red (Douro)     Portuguese Red   \n",
              "2          Rainstorm 2013 Pinot Gris (Willamette Valley)         Pinot Gris   \n",
              "3      St. Julian 2013 Reserve Late Harvest Riesling ...           Riesling   \n",
              "4      Sweet Cheeks 2012 Vintner's Reserve Wild Child...         Pinot Noir   \n",
              "...                                                  ...                ...   \n",
              "10331          Vavasour 2008 Pinot Noir (Awatere Valley)         Pinot Noir   \n",
              "10332  Viña Mein 2009 Domillor Harvest Selection Whit...        White Blend   \n",
              "10333                  Máté 2005  Brunello di Montalcino  Sangiovese Grosso   \n",
              "10334      Niepoort 2008 Quinta da Pisca Vintage  (Port)               Port   \n",
              "10335  Rocca di Montemassi 2006 Sassabruna  (Montereg...                San   \n",
              "\n",
              "                    winery  \n",
              "0                  Nicosia  \n",
              "1      Quinta dos Avidagos  \n",
              "2                Rainstorm  \n",
              "3               St. Julian  \n",
              "4             Sweet Cheeks  \n",
              "...                    ...  \n",
              "10331             Vavasour  \n",
              "10332            Viña Mein  \n",
              "10333                 Máté  \n",
              "10334             Niepoort  \n",
              "10335                  NaN  \n",
              "\n",
              "[10336 rows x 13 columns]>"
            ]
          },
          "metadata": {},
          "execution_count": 3
        }
      ],
      "source": [
        "reviews.head"
      ]
    },
    {
      "cell_type": "code",
      "execution_count": 4,
      "metadata": {
        "colab": {
          "base_uri": "https://localhost:8080/"
        },
        "id": "BcRCNYQT6wLL",
        "outputId": "2893af9b-f9dd-4918-d460-15f6e6f5df26"
      },
      "outputs": [
        {
          "output_type": "execute_result",
          "data": {
            "text/plain": [
              "pandas.core.series.Series"
            ]
          },
          "metadata": {},
          "execution_count": 4
        }
      ],
      "source": [
        "desc= reviews['description']\n",
        "type(desc)\n"
      ]
    },
    {
      "cell_type": "code",
      "execution_count": 5,
      "metadata": {
        "id": "rTdXUb2R7AvB"
      },
      "outputs": [],
      "source": [
        "first_description = reviews.description.iloc[0]"
      ]
    },
    {
      "cell_type": "code",
      "execution_count": 6,
      "metadata": {
        "id": "DSfHqo5d7azs"
      },
      "outputs": [],
      "source": [
        "first_row = reviews.iloc[0]"
      ]
    },
    {
      "cell_type": "code",
      "execution_count": 7,
      "metadata": {
        "id": "gPnm8FoP7e8A"
      },
      "outputs": [],
      "source": [
        "first_description = reviews.description.iloc[:10]"
      ]
    },
    {
      "cell_type": "code",
      "execution_count": 8,
      "metadata": {
        "id": "-G4K3OU27pAM"
      },
      "outputs": [],
      "source": [
        "sample_reviews = reviews.iloc[[1,2,3,5,8]]"
      ]
    },
    {
      "cell_type": "code",
      "source": [],
      "metadata": {
        "id": "KiU8Fw6KFnCp"
      },
      "execution_count": 8,
      "outputs": []
    }
  ],
  "metadata": {
    "colab": {
      "provenance": [],
      "authorship_tag": "ABX9TyPnQaBLC8JRjx78eOrf5MCL",
      "include_colab_link": true
    },
    "kernelspec": {
      "display_name": "Python 3",
      "name": "python3"
    },
    "language_info": {
      "name": "python"
    }
  },
  "nbformat": 4,
  "nbformat_minor": 0
}