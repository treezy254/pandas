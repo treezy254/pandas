{
  "nbformat": 4,
  "nbformat_minor": 0,
  "metadata": {
    "colab": {
      "provenance": [],
      "toc_visible": true
    },
    "kernelspec": {
      "name": "python3",
      "display_name": "Python 3"
    },
    "language_info": {
      "name": "python"
    }
  },
  "cells": [
    {
      "cell_type": "code",
      "execution_count": 1,
      "metadata": {
        "colab": {
          "base_uri": "https://localhost:8080/"
        },
        "id": "cdnzbP55S32j",
        "outputId": "3d70c965-69ab-4c36-8f10-fd7b8b5565b7"
      },
      "outputs": [
        {
          "output_type": "stream",
          "name": "stdout",
          "text": [
            "set up complete\n"
          ]
        }
      ],
      "source": [
        "import sys\n",
        "assert sys.version_info >=(3, 5)\n",
        "\n",
        "import sklearn\n",
        "assert sklearn.__version__ >= \"0.20\"\n",
        "import os\n",
        "import numpy as np\n",
        "\n",
        "print(\"set up complete\")"
      ]
    },
    {
      "cell_type": "code",
      "source": [
        "\"\"\"\n",
        "Step 1\n",
        "* Select the target variable, which corresponds to the sales price. Save this to a new varibale called y. \n",
        "\n",
        "Step 2:\n",
        "* Create a dataframe called x, holding the predictive features\n",
        " \t- LotArea\n",
        " \t- YearBuilt\n",
        " \t- !stFlrSF\n",
        " \t- 2ndFlrSF\n",
        " \t- FullBath\n",
        " \t- BedroomAbvGr\n",
        " \t- TotRmsAbvGrd\n",
        "\n",
        "* Review Data\n",
        "\n",
        "\n",
        "Step 3\n",
        "*Specify and Fit Model\n",
        "*Create a DecisionTreeRegressor and save it iowa_model. \n",
        "*fit the model\n",
        "\n",
        "\n",
        "Step 4\n",
        "*Make Predictions\n",
        "\n",
        "\"\"\"\n"
      ],
      "metadata": {
        "id": "gLRh8XWkUUNe",
        "colab": {
          "base_uri": "https://localhost:8080/",
          "height": 105
        },
        "outputId": "a654f155-449c-44be-d9c3-3ab989f60748"
      },
      "execution_count": 2,
      "outputs": [
        {
          "output_type": "execute_result",
          "data": {
            "text/plain": [
              "'\\nStep 1\\n* Select the target variable, which corresponds to the sales price. Save this to a new varibale called y. \\n\\nStep 2:\\n* Create a dataframe called x, holding the predictive features\\n \\t- LotArea\\n \\t- YearBuilt\\n \\t- !stFlrSF\\n \\t- 2ndFlrSF\\n \\t- FullBath\\n \\t- BedroomAbvGr\\n \\t- TotRmsAbvGrd\\n\\n* Review Data\\n\\n\\nStep 3\\n*Specify and Fit Model\\n*Create a DecisionTreeRegressor and save it iowa_model. \\n*fit the model\\n\\n\\nStep 4\\n*Make Predictions\\n\\n'"
            ],
            "application/vnd.google.colaboratory.intrinsic+json": {
              "type": "string"
            }
          },
          "metadata": {},
          "execution_count": 2
        }
      ]
    },
    {
      "cell_type": "code",
      "source": [],
      "metadata": {
        "id": "PkLdojJRzAwl"
      },
      "execution_count": null,
      "outputs": []
    },
    {
      "cell_type": "code",
      "source": [
        "import pandas as pd\n",
        "my_data = pd.read_csv('train.csv')\n",
        "my_data.head()\n",
        "\n",
        "y = my_data.SalePrice\n",
        "x = ['LotArea', 'YearBuilt', '!stFlrSF', '2ndFlrSF', 'FullBath', 'BedroomAbvGr', 'TotRmsAbvGrd']\n",
        "\n"
      ],
      "metadata": {
        "id": "HMZQpq-WUdfi",
        "colab": {
          "base_uri": "https://localhost:8080/"
        },
        "outputId": "e451686e-e9fd-44ce-9426-9799c2719116"
      },
      "execution_count": 11,
      "outputs": [
        {
          "output_type": "execute_result",
          "data": {
            "text/plain": [
              "count      1460.000000\n",
              "mean     180921.195890\n",
              "std       79442.502883\n",
              "min       34900.000000\n",
              "25%      129975.000000\n",
              "50%      163000.000000\n",
              "75%      214000.000000\n",
              "max      755000.000000\n",
              "Name: SalePrice, dtype: float64"
            ]
          },
          "metadata": {},
          "execution_count": 11
        }
      ]
    },
    {
      "cell_type": "code",
      "source": [],
      "metadata": {
        "id": "McNpTIom0Q2B"
      },
      "execution_count": null,
      "outputs": []
    }
  ]
}