{
  "nbformat": 4,
  "nbformat_minor": 0,
  "metadata": {
    "colab": {
      "provenance": [],
      "toc_visible": true
    },
    "kernelspec": {
      "name": "python3",
      "display_name": "Python 3"
    },
    "language_info": {
      "name": "python"
    }
  },
  "cells": [
    {
      "cell_type": "code",
      "execution_count": null,
      "metadata": {
        "colab": {
          "base_uri": "https://localhost:8080/"
        },
        "id": "cdnzbP55S32j",
        "outputId": "7cfa7ad5-ebd5-4dc9-9c71-ad71ccba3bc3"
      },
      "outputs": [
        {
          "output_type": "stream",
          "name": "stdout",
          "text": [
            "set up complete\n"
          ]
        }
      ],
      "source": [
        "import sys\n",
        "assert sys.version_info >=(3, 5)\n",
        "\n",
        "import sklearn\n",
        "assert sklearn.__version__ >= \"0.20\"\n",
        "import os\n",
        "import numpy as np\n",
        "\n",
        "print(\"set up complete\")"
      ]
    },
    {
      "cell_type": "code",
      "source": [
        "\"\"\"\n",
        "Step 1\n",
        "* Select the target variable, which corresponds to the sales price. Save this to a new varibale called y. \n",
        "\n",
        "Step 2:\n",
        "* Create a dataframe called x, holding the predictive features\n",
        " \t- LotArea\n",
        " \t- YearBuilt\n",
        " \t- !stFlrSF\n",
        " \t- 2ndFlrSF\n",
        " \t- FullBath\n",
        " \t- BedroomAbvGr\n",
        " \t- TotRmsAbvGrd\n",
        "\n",
        "* Review Data\n",
        "\n",
        "\n",
        "Step 3\n",
        "*Specify and Fit Model\n",
        "*Create a DecisionTreeRegressor and save it iowa_model. \n",
        "*fit the model\n",
        "\n",
        "\n",
        "Step 4\n",
        "*Make Predictions\n",
        "\n",
        "\"\"\"\n"
      ],
      "metadata": {
        "id": "gLRh8XWkUUNe",
        "colab": {
          "base_uri": "https://localhost:8080/",
          "height": 105
        },
        "outputId": "afb0d6f4-dad9-40dd-9289-7b187e45e361"
      },
      "execution_count": null,
      "outputs": [
        {
          "output_type": "execute_result",
          "data": {
            "text/plain": [
              "'\\nStep 1\\n* Select the target variable, which corresponds to the sales price. Save this to a new varibale called y. \\n\\nStep 2:\\n* Create a dataframe called x, holding the predictive features\\n \\t- LotArea\\n \\t- YearBuilt\\n \\t- !stFlrSF\\n \\t- 2ndFlrSF\\n \\t- FullBath\\n \\t- BedroomAbvGr\\n \\t- TotRmsAbvGrd\\n\\n* Review Data\\n\\n\\nStep 3\\n*Specify and Fit Model\\n*Create a DecisionTreeRegressor and save it iowa_model. \\n*fit the model\\n\\n\\nStep 4\\n*Make Predictions\\n\\n'"
            ],
            "application/vnd.google.colaboratory.intrinsic+json": {
              "type": "string"
            }
          },
          "metadata": {},
          "execution_count": 42
        }
      ]
    },
    {
      "cell_type": "code",
      "source": [],
      "metadata": {
        "id": "PkLdojJRzAwl"
      },
      "execution_count": null,
      "outputs": []
    },
    {
      "cell_type": "code",
      "source": [
        "import pandas as pd\n",
        "my_data = pd.read_csv('train.csv')\n",
        "\n",
        "\n",
        "y = my_data.SalePrice\n",
        "\n",
        "feature_names = ['LotArea', 'YearBuilt', '1stFlrSF', '2ndFlrSF', 'FullBath', 'BedroomAbvGr', 'TotRmsAbvGrd']\n",
        "\n",
        "X = my_data[feature_names]\n",
        "\n",
        "# X.describe\n",
        "my_data.describe\n"
      ],
      "metadata": {
        "id": "HMZQpq-WUdfi",
        "colab": {
          "base_uri": "https://localhost:8080/"
        },
        "outputId": "7285d716-27d6-4619-ad8b-6df546cde25b"
      },
      "execution_count": null,
      "outputs": [
        {
          "output_type": "execute_result",
          "data": {
            "text/plain": [
              "<bound method NDFrame.describe of         Id  MSSubClass MSZoning  LotFrontage  LotArea Street Alley LotShape  \\\n",
              "0        1          60       RL         65.0     8450   Pave   NaN      Reg   \n",
              "1        2          20       RL         80.0     9600   Pave   NaN      Reg   \n",
              "2        3          60       RL         68.0    11250   Pave   NaN      IR1   \n",
              "3        4          70       RL         60.0     9550   Pave   NaN      IR1   \n",
              "4        5          60       RL         84.0    14260   Pave   NaN      IR1   \n",
              "...    ...         ...      ...          ...      ...    ...   ...      ...   \n",
              "1455  1456          60       RL         62.0     7917   Pave   NaN      Reg   \n",
              "1456  1457          20       RL         85.0    13175   Pave   NaN      Reg   \n",
              "1457  1458          70       RL         66.0     9042   Pave   NaN      Reg   \n",
              "1458  1459          20       RL         68.0     9717   Pave   NaN      Reg   \n",
              "1459  1460          20       RL         75.0     9937   Pave   NaN      Reg   \n",
              "\n",
              "     LandContour Utilities  ... PoolArea PoolQC  Fence MiscFeature MiscVal  \\\n",
              "0            Lvl    AllPub  ...        0    NaN    NaN         NaN       0   \n",
              "1            Lvl    AllPub  ...        0    NaN    NaN         NaN       0   \n",
              "2            Lvl    AllPub  ...        0    NaN    NaN         NaN       0   \n",
              "3            Lvl    AllPub  ...        0    NaN    NaN         NaN       0   \n",
              "4            Lvl    AllPub  ...        0    NaN    NaN         NaN       0   \n",
              "...          ...       ...  ...      ...    ...    ...         ...     ...   \n",
              "1455         Lvl    AllPub  ...        0    NaN    NaN         NaN       0   \n",
              "1456         Lvl    AllPub  ...        0    NaN  MnPrv         NaN       0   \n",
              "1457         Lvl    AllPub  ...        0    NaN  GdPrv        Shed    2500   \n",
              "1458         Lvl    AllPub  ...        0    NaN    NaN         NaN       0   \n",
              "1459         Lvl    AllPub  ...        0    NaN    NaN         NaN       0   \n",
              "\n",
              "     MoSold YrSold  SaleType  SaleCondition  SalePrice  \n",
              "0         2   2008        WD         Normal     208500  \n",
              "1         5   2007        WD         Normal     181500  \n",
              "2         9   2008        WD         Normal     223500  \n",
              "3         2   2006        WD        Abnorml     140000  \n",
              "4        12   2008        WD         Normal     250000  \n",
              "...     ...    ...       ...            ...        ...  \n",
              "1455      8   2007        WD         Normal     175000  \n",
              "1456      2   2010        WD         Normal     210000  \n",
              "1457      5   2010        WD         Normal     266500  \n",
              "1458      4   2010        WD         Normal     142125  \n",
              "1459      6   2008        WD         Normal     147500  \n",
              "\n",
              "[1460 rows x 81 columns]>"
            ]
          },
          "metadata": {},
          "execution_count": 43
        }
      ]
    },
    {
      "cell_type": "code",
      "source": [
        "from sklearn.tree import DecisionTreeRegressor\n",
        "from sklearn.metrics import mean_absolute_error\n",
        "from sklearn.model_selection import train_test_split\n",
        "\n",
        "train_X, val_X, train_y, val_y = train_test_split(X, y, random_state=1)\n",
        "\n",
        "my_model = DecisionTreeRegressor(random_state=1)\n",
        "my_model.fit(train_X, train_y)\n",
        "\n",
        "\n",
        "\n"
      ],
      "metadata": {
        "colab": {
          "base_uri": "https://localhost:8080/"
        },
        "id": "McNpTIom0Q2B",
        "outputId": "374c9d91-c0d7-45f0-8aa5-5bcd99a86299"
      },
      "execution_count": null,
      "outputs": [
        {
          "output_type": "execute_result",
          "data": {
            "text/plain": [
              "DecisionTreeRegressor(random_state=1)"
            ]
          },
          "metadata": {},
          "execution_count": 44
        }
      ]
    },
    {
      "cell_type": "code",
      "source": [
        "predictions = my_model.predict(val_X)\n",
        "mean_absolute_error(val_y, predictions)"
      ],
      "metadata": {
        "colab": {
          "base_uri": "https://localhost:8080/"
        },
        "id": "Eh44yqNn4QDX",
        "outputId": "dae69281-aaa3-47ab-e088-5f4c7cdd355c"
      },
      "execution_count": null,
      "outputs": [
        {
          "output_type": "execute_result",
          "data": {
            "text/plain": [
              "29652.931506849316"
            ]
          },
          "metadata": {},
          "execution_count": 45
        }
      ]
    },
    {
      "cell_type": "code",
      "source": [
        "def get_mae(max_leaf_nodes, train_X, val_X, train_y, val_y):\n",
        "  model = DecisionTreeRegressor(max_leaf_nodes=max_leaf_nodes, random_state=0)\n",
        "  model.fit(train_X, train_y)\n",
        "  preds_val = model.predict(val_X)\n",
        "  mae = mean_absolute_error(val_y, preds_val)\n",
        "  return mae\n"
      ],
      "metadata": {
        "id": "qjBkuiEg4skp"
      },
      "execution_count": null,
      "outputs": []
    },
    {
      "cell_type": "code",
      "source": [
        "for max_leaf_nodes in [5, 50, 500, 100]:\n",
        "  my_mae = get_mae(max_leaf_nodes, train_X, val_X, train_y, val_y)\n",
        "  print('MAx LEaf Node: %d \\t\\t Mean Absolute Error: %d' %(max_leaf_nodes, my_mae))\n",
        "  "
      ],
      "metadata": {
        "colab": {
          "base_uri": "https://localhost:8080/"
        },
        "id": "YwEO4mys8Ye8",
        "outputId": "33369b49-6fe7-4617-f342-1c03c8f17c4c"
      },
      "execution_count": null,
      "outputs": [
        {
          "output_type": "stream",
          "name": "stdout",
          "text": [
            "MAx LEaf Node: 5 \t\t Mean Absolute Error: 35044\n",
            "MAx LEaf Node: 50 \t\t Mean Absolute Error: 27405\n",
            "MAx LEaf Node: 500 \t\t Mean Absolute Error: 29454\n",
            "MAx LEaf Node: 100 \t\t Mean Absolute Error: 27282\n"
          ]
        }
      ]
    },
    {
      "cell_type": "code",
      "source": [
        "final_model = DecisionTreeRegressor(max_leaf_nodes = 100, random_state=0)\n",
        "final_model.fit(X, y)\n"
      ],
      "metadata": {
        "colab": {
          "base_uri": "https://localhost:8080/"
        },
        "id": "938LskBU9Tns",
        "outputId": "07f169fe-0f2b-4676-9be1-f75a4b380eb7"
      },
      "execution_count": null,
      "outputs": [
        {
          "output_type": "execute_result",
          "data": {
            "text/plain": [
              "DecisionTreeRegressor(max_leaf_nodes=100, random_state=0)"
            ]
          },
          "metadata": {},
          "execution_count": 48
        }
      ]
    },
    {
      "cell_type": "markdown",
      "source": [
        "## Random Forests\n"
      ],
      "metadata": {
        "id": "TJmxKndm-YCs"
      }
    },
    {
      "cell_type": "code",
      "source": [
        "from sklearn.ensemble import RandomForestRegressor\n",
        "\n",
        "new_model = RandomForestRegressor(random_state=1)\n",
        "new_model.fit(train_X, train_y)\n",
        "pred = new_model.predict(val_X)\n",
        "rf_val_mae = mean_absolute_error(val_y, pred)\n",
        "print('Validation MAE for Random Forest Model: {}'.format(rf_val_mae))"
      ],
      "metadata": {
        "colab": {
          "base_uri": "https://localhost:8080/"
        },
        "id": "1c2I6VUL99Tq",
        "outputId": "87968ae3-141f-42a6-b2d6-30591ca11df2"
      },
      "execution_count": 55,
      "outputs": [
        {
          "output_type": "stream",
          "name": "stdout",
          "text": [
            "Validation MAE for Random Forest Model: 21857.15912981083\n"
          ]
        }
      ]
    },
    {
      "cell_type": "code",
      "source": [],
      "metadata": {
        "id": "_aC5Gi-m_BLo"
      },
      "execution_count": null,
      "outputs": []
    }
  ]
}